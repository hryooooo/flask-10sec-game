{
 "cells": [
  {
   "cell_type": "code",
   "execution_count": 28,
   "metadata": {},
   "outputs": [],
   "source": [
    "from flask import Flask, render_template\n",
    "from flask_socketio import SocketIO, emit\n",
    "import time\n",
    "\n",
    "app = Flask(__name__)\n",
    "socketio = SocketIO(app, cors_allowed_origins=\"*\")\n",
    "\n",
    "start_time = None  # タイマー開始時間\n",
    "results = {}\n",
    "\n",
    "@app.route('/')\n",
    "def index():\n",
    "    return render_template('index.html')\n",
    "\n",
    "@app.route('/admin')\n",
    "def admin():\n",
    "    return render_template('admin.html')\n",
    "\n",
    "@socketio.on('start_timer')\n",
    "def start_timer():\n",
    "    global start_time, results\n",
    "    start_time = time.time()  # タイマー開始時刻を記録\n",
    "    results = {}  # リセット\n",
    "    emit('timer_started', start_time, broadcast=True)\n",
    "\n",
    "@socketio.on('submit_time')\n",
    "def submit_time(data):\n",
    "    user = data['user']\n",
    "    press_time = data['time']\n",
    "\n",
    "    # 小数点以下3桁にフォーマット\n",
    "    formatted_time = float(\"{:.3f}\".format(press_time))\n",
    "    results[user] = formatted_time\n",
    "\n",
    "    emit('update_results', results, broadcast=True)\n",
    "\n",
    "if __name__ == '__main__':\n",
    "    socketio.run(app)\n"
   ]
  },
  {
   "cell_type": "code",
   "execution_count": null,
   "metadata": {},
   "outputs": [],
   "source": []
  }
 ],
 "metadata": {
  "kernelspec": {
   "display_name": "19env",
   "language": "python",
   "name": "python3"
  },
  "language_info": {
   "codemirror_mode": {
    "name": "ipython",
    "version": 3
   },
   "file_extension": ".py",
   "mimetype": "text/x-python",
   "name": "python",
   "nbconvert_exporter": "python",
   "pygments_lexer": "ipython3",
   "version": "3.13.2"
  }
 },
 "nbformat": 4,
 "nbformat_minor": 2
}
